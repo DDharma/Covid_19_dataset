{
 "cells": [
  {
   "cell_type": "code",
   "execution_count": 221,
   "metadata": {},
   "outputs": [],
   "source": [
    "#Importing the modules\n",
    "import numpy as np \n",
    "from sklearn.preprocessing import PolynomialFeatures\n",
    "from sklearn.linear_model import LinearRegression\n",
    "import pandas as pd \n",
    "import matplotlib.pyplot as plt"
   ]
  },
  {
   "cell_type": "code",
   "execution_count": 222,
   "metadata": {},
   "outputs": [
    {
     "name": "stdout",
     "output_type": "stream",
     "text": [
      "Days [ 1  2  3  4  5  6  7  8  9 10 11 12 13 14 15 16 17 18 19 20 21 22 23 24\n",
      " 25 26 27 28 29 30 31 32 33 34 35 36 37 38 39 40 41 42 43 44 45 46 47 48\n",
      " 49 50 51 52 53 54 55 56 57 58 59 60 61]\n",
      "Confirmed [   554    652    939   1432   2113   2922   5573   6161   8229   9920\n",
      "  12030  16779  19870  23881  27624  30806  34380  37109  40139  42751\n",
      "  44790  45209  60355  66872  69017  71211  73245  75123  75626  76184\n",
      "  76808  78564  78950  79553  80398  81380  82738  84104  85987  88339\n",
      "  90253  92767  95016  97710 101567 105485 109343 113044 118592 125865\n",
      " 128343 145193 156094 167446 181527 197142 214910 242708 272166 304524\n",
      " 335955]\n",
      "Deaths [   17    18    26    42    56    82   131   133   171   213   259   362\n",
      "   426   492   564   634   719   806   906  1013  1113  1118  1371  1523\n",
      "  1666  1770  1868  2007  2122  2247  2251  2458  2469  2629  2708  2770\n",
      "  2814  2872  2940  2995  3079  3153  3243  3336  3446  3541  3781  3966\n",
      "  4262  4615  4720  5404  5819  6440  7126  7905  8733  9867 11299 12973\n",
      " 14632]\n",
      "Recovered [   28    30    36    39    52    61   107   126   143   222   284   472\n",
      "   623   852  1124  1487  2011  2616  3241  3943  4680  5147  6292  8055\n",
      "  9392 10862 12580 14349 16118 18174 18885 22881 23389 25222 27899 30378\n",
      " 33271 36704 39775 42709 45595 48221 51163 53789 55858 58351 60687 62487\n",
      " 64404 67003 68324 70251 72624 76034 78088 80840 83207 84854 87256 91499\n",
      " 97704]\n"
     ]
    }
   ],
   "source": [
    "#Loading the data sets\n",
    "df = pd.read_csv('Datasets/covid_19_clean_data_Daywise(23-march).csv')\n",
    "Days = np.array(df['Days'])\n",
    "print(\"Days\",Days)\n",
    "Confirmed = np.array(df['Confirmed'])\n",
    "print(\"Confirmed\",Confirmed)\n",
    "Deaths = np.array(df['Deaths'])\n",
    "print(\"Deaths\",Deaths)\n",
    "Recovered = np.array(df['Recovered'])\n",
    "print(\"Recovered\",Recovered)"
   ]
  },
  {
   "cell_type": "code",
   "execution_count": 223,
   "metadata": {},
   "outputs": [
    {
     "name": "stdout",
     "output_type": "stream",
     "text": [
      "[27 49  9 22 59 56  6 18 15 45 33 30 58  7  0 43 24 37 48 20 25 35  5  4\n",
      " 51 53 50 19 55 14 54 39 41 57 12 34 47  8 42 26 11 38 46 21 52 10 60 44\n",
      " 16 13  2  3 17 31 32 36 23 29  1 28 40]\n",
      "61\n"
     ]
    }
   ],
   "source": [
    "#Creating randon indices for spliting the data set\n",
    "random_indices = np.random.permutation(61)\n",
    "print(random_indices)\n",
    "\n",
    "#Input train/test feature\n",
    "Days_train = Days[random_indices[:]]\n",
    "#Days_test = Days[random_indices[:]]\n",
    "\n",
    "#Output train/test feature\n",
    "Confirmed_train = Confirmed[random_indices[:]]\n",
    "#Confirmed_test = Confirmed[random_indices[58:]]\n",
    "\n",
    "Deaths_train = Deaths[random_indices[:]]\n",
    "#Deaths_test = Deaths[random_indices[58:]]\n",
    "\n",
    "Recovered_train = Recovered[random_indices[:]]\n",
    "Recovered_test = Recovered[random_indices[58:]]\n",
    "\n",
    "#Cheaking the lenth of taring sample\n",
    "print(len(Confirmed_train))"
   ]
  },
  {
   "cell_type": "code",
   "execution_count": 224,
   "metadata": {},
   "outputs": [],
   "source": [
    "#Using Linear Regression \n",
    "#Function for training the model with decision tree\n",
    "#Parameter of the functions are:\n",
    "    #1. x_train = input feature training set\n",
    "    #2. y_train = output feature training set\n",
    "    \n",
    "    \n",
    "def model_train(x_train,y_train):\n",
    "    #fitting the data into the model\n",
    "    model = linear_model.LinearRegression()#Creating instance of linear model\n",
    "    #sklearn takes input as matrix so the we have to reshape the matrix into colloum matrix\n",
    "    x_train_for_fittng = np.matrix(x_train.reshape(len(x_train),1))\n",
    "    y_train_for_fittng = np.matrix(y_train.reshape(len(y_train),1))\n",
    "    \n",
    "    #fit the data into the model\n",
    "    return(model.fit(x_train_for_fittng,y_train_for_fittng))"
   ]
  },
  {
   "cell_type": "code",
   "execution_count": 225,
   "metadata": {},
   "outputs": [
    {
     "data": {
      "text/plain": [
       "[<matplotlib.lines.Line2D at 0x19e5dac99b0>]"
      ]
     },
     "execution_count": 225,
     "metadata": {},
     "output_type": "execute_result"
    },
    {
     "data": {
      "image/png": "[encoded data removed]",
      "text/plain": [
       "<Figure size 432x288 with 1 Axes>"
      ]
     },
     "metadata": {
      "needs_background": "light"
     },
     "output_type": "display_data"
    }
   ],
   "source": [
    "#Calling the Linear regrassing function\n",
    "model = model_train(Days_train,Confirmed_train)\n",
    "model_prediction = model.predict(Days.reshape((len(Days),1)))\n",
    "\n",
    "#Ploring the curve(Red : Traning Data, GREEN : Prediction  )\n",
    "plt.scatter(Days_train,Confirmed_train,color=\"red\")\n",
    "plt.plot(Days.reshape((len(Days),1)),model_prediction,color=\"green\")"
   ]
  },
  {
   "cell_type": "code",
   "execution_count": 226,
   "metadata": {},
   "outputs": [],
   "source": [
    "#Function for Polynomial regrassing function\n",
    "def poly_regr(X_train,Y_train,degree):\n",
    "    polynom = PolynomialFeatures(degree=degree)\n",
    "    X_poly = polynom.fit_transform(X_train.reshape(len(X_train),1))\n",
    "    polyReg = LinearRegression()\n",
    "    #Returing the fitted model\n",
    "    return polyReg.fit(X_poly,Y_train.reshape(len(Y_train),1))   "
   ]
  },
  {
   "cell_type": "code",
   "execution_count": 227,
   "metadata": {},
   "outputs": [
    {
     "name": "stdout",
     "output_type": "stream",
     "text": [
      "LinearRegression(copy_X=True, fit_intercept=True, n_jobs=None,\n",
      "         normalize=False)\n"
     ]
    }
   ],
   "source": [
    "#calling the plynomial regrassion model for confirm case\n",
    "polynom = PolynomialFeatures(degree=4)\n",
    "model = poly_regr(Days_train,Confirmed_train,4)\n",
    "#Printing the model\n",
    "print(model)\n",
    "\n",
    "#Pridiction the mode on traning data\n",
    "predict = model.predict(polynom.fit_transform(Days_train.reshape(len(Days_train),1)))"
   ]
  },
  {
   "cell_type": "code",
   "execution_count": 228,
   "metadata": {},
   "outputs": [
    {
     "data": {
      "text/plain": [
       "'#Visulazing the predicted model\\nplt.scatter(Days_train,Confirmed_train,color=\"red\")\\nplt.scatter(Days_train,predict,color=\"blue\")\\nplt.show()'"
      ]
     },
     "execution_count": 228,
     "metadata": {},
     "output_type": "execute_result"
    }
   ],
   "source": [
    "'''#Visulazing the predicted model\n",
    "plt.scatter(Days_train,Confirmed_train,color=\"red\")\n",
    "plt.scatter(Days_train,predict,color=\"blue\")\n",
    "plt.show()'''"
   ]
  },
  {
   "cell_type": "code",
   "execution_count": 229,
   "metadata": {},
   "outputs": [],
   "source": [
    "#Creating Array of custom Days\n",
    "Days_array = []\n",
    "#Creating Days Data for further Prediction\n",
    "for i in range(1,100):\n",
    "    Days_array.append(i) \n",
    "#Converting arary into np array    \n",
    "Days_predict = np.array(Days_array)\n",
    "#Predict the model on Future Date \n",
    "predict_Confirm = model.predict(polynom.fit_transform(Days_predict.reshape(len(Days_predict),1)))"
   ]
  },
  {
   "cell_type": "code",
   "execution_count": 230,
   "metadata": {},
   "outputs": [
    {
     "data": {
      "text/plain": [
       "[<matplotlib.lines.Line2D at 0x19e5eb1c7b8>]"
      ]
     },
     "execution_count": 230,
     "metadata": {},
     "output_type": "execute_result"
    },
    {
     "data": {
      "image/png": "[encoded data removed]",
      "text/plain": [
       "<Figure size 432x288 with 1 Axes>"
      ]
     },
     "metadata": {
      "needs_background": "light"
     },
     "output_type": "display_data"
    }
   ],
   "source": [
    "#Ploting the curve(Red: Traning Data, Blue: Future Prediction) for confirm case\n",
    "plt.scatter(Days_train,Confirmed_train,color=\"red\")\n",
    "plt.plot(Days_predict,predict_Confirm,color='blue')"
   ]
  },
  {
   "cell_type": "code",
   "execution_count": 231,
   "metadata": {},
   "outputs": [
    {
     "name": "stdout",
     "output_type": "stream",
     "text": [
      "LinearRegression(copy_X=True, fit_intercept=True, n_jobs=None,\n",
      "         normalize=False)\n"
     ]
    }
   ],
   "source": [
    "#calling the plynomial regrassion model for Death Case\n",
    "polynom = PolynomialFeatures(degree=4)\n",
    "model = poly_regr(Days_train,Deaths_train,4)\n",
    "#Printing the model\n",
    "print(model)\n",
    "\n",
    "#Pridiction the mode on traning data\n",
    "predict = model.predict(polynom.fit_transform(Days_train.reshape(len(Days_train),1)))"
   ]
  },
  {
   "cell_type": "code",
   "execution_count": 232,
   "metadata": {},
   "outputs": [],
   "source": [
    "#Predict the model on Future Date \n",
    "predict_Death = model.predict(polynom.fit_transform(Days_predict.reshape(len(Days_predict),1)))"
   ]
  },
  {
   "cell_type": "code",
   "execution_count": 233,
   "metadata": {},
   "outputs": [
    {
     "data": {
      "text/plain": [
       "[<matplotlib.lines.Line2D at 0x19e5eaf7668>]"
      ]
     },
     "execution_count": 233,
     "metadata": {},
     "output_type": "execute_result"
    },
    {
     "data": {
      "image/png": "[encoded data removed]",
      "text/plain": [
       "<Figure size 432x288 with 1 Axes>"
      ]
     },
     "metadata": {
      "needs_background": "light"
     },
     "output_type": "display_data"
    }
   ],
   "source": [
    "#Ploting the curve(Red: Traning Data, Blue: Future Prediction) for Death case\n",
    "plt.scatter(Days_train,Deaths_train,color=\"red\")\n",
    "plt.plot(Days_predict,predict_Death,color='blue')"
   ]
  },
  {
   "cell_type": "code",
   "execution_count": 234,
   "metadata": {},
   "outputs": [
    {
     "name": "stdout",
     "output_type": "stream",
     "text": [
      "LinearRegression(copy_X=True, fit_intercept=True, n_jobs=None,\n",
      "         normalize=False)\n"
     ]
    }
   ],
   "source": [
    "#calling the plynomial regrassion model for Recovery Case\n",
    "polynom = PolynomialFeatures(degree=2)\n",
    "model = poly_regr(Days_train,Recovered_train,2)\n",
    "#Printing the model\n",
    "print(model)\n",
    "\n",
    "#Pridiction the mode on traning data\n",
    "predict = model.predict(polynom.fit_transform(Days_train.reshape(len(Days_train),1)))"
   ]
  },
  {
   "cell_type": "code",
   "execution_count": 235,
   "metadata": {},
   "outputs": [],
   "source": [
    "#Predict the model on Future Date\n",
    "predict_Recovered = model.predict(polynom.fit_transform(Days_predict.reshape(len(Days_predict),1)))\n"
   ]
  },
  {
   "cell_type": "code",
   "execution_count": 236,
   "metadata": {},
   "outputs": [
    {
     "data": {
      "text/plain": [
       "[<matplotlib.lines.Line2D at 0x19e5ec29ef0>]"
      ]
     },
     "execution_count": 236,
     "metadata": {},
     "output_type": "execute_result"
    },
    {
     "data": {
      "image/png": "[encoded data removed]",
      "text/plain": [
       "<Figure size 432x288 with 1 Axes>"
      ]
     },
     "metadata": {
      "needs_background": "light"
     },
     "output_type": "display_data"
    }
   ],
   "source": [
    "#Ploting the curve(Red: Traning Data, Blue: Future Prediction) for Death case\n",
    "plt.scatter(Days_train,Recovered_train,color=\"red\")\n",
    "plt.plot(Days_predict,predict_Recovered,color='blue')"
   ]
  }
 ],
 "metadata": {
  "kernelspec": {
   "display_name": "Python 3",
   "language": "python",
   "name": "python3"
  },
  "language_info": {
   "codemirror_mode": {
    "name": "ipython",
    "version": 3
   },
   "file_extension": ".py",
   "mimetype": "text/x-python",
   "name": "python",
   "nbconvert_exporter": "python",
   "pygments_lexer": "ipython3",
   "version": "3.6.8"
  }
 },
 "nbformat": 4,
 "nbformat_minor": 2
}
