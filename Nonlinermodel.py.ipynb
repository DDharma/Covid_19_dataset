{
 "cells": [
  {
   "cell_type": "code",
   "execution_count": 11,
   "metadata": {},
   "outputs": [],
   "source": [
    "#Importing the modules\n",
    "import numpy as np \n",
    "from sklearn.preprocessing import PolynomialFeatures\n",
    "from sklearn.linear_model import LinearRegression\n",
    "import pandas as pd \n",
    "import matplotlib.pyplot as plt\n",
    "import pickle"
   ]
  },
  {
   "cell_type": "code",
   "execution_count": 23,
   "metadata": {},
   "outputs": [],
   "source": [
    "#Loading the data sets\n",
    "df = pd.read_csv('Datasets/covid_19_clean_data_Daywise(12-april).csv')\n",
    "Days = np.array(df['Days'])\n",
    "#print(\"Days\",Days)\n",
    "Confirmed = np.array(df['Confirmed'])\n",
    "#print(\"Confirmed\",Confirmed)\n",
    "Deaths = np.array(df['Deaths'])\n",
    "#print(\"Deaths\",Deaths)\n",
    "Recovered = np.array(df['Recovered'])\n",
    "#print(\"Recovered\",Recovered)"
   ]
  },
  {
   "cell_type": "code",
   "execution_count": 24,
   "metadata": {},
   "outputs": [
    {
     "name": "stdout",
     "output_type": "stream",
     "text": [
      "[41 59 57 72  7 71 25 48 11 55 53 36 30 68 61  9 21 28 42 17  0 26  3 31\n",
      " 51 47 64  8 34 56 60  2 35  1  4 73 19 23 50 37 22 15 32 13 49 70 80 75\n",
      " 18 52 14 79 58 27 45 20 76  5 24 78 65 16 66 44 74  6 43 38 29 63 40 62\n",
      " 39 54 33 10 12 69 77 67 46]\n",
      "81\n",
      "81\n"
     ]
    }
   ],
   "source": [
    "#Creating randon indices for spliting the data set\n",
    "random_indices = np.random.permutation(81)\n",
    "print(random_indices)\n",
    "\n",
    "#Input train/test feature\n",
    "Days_train = Days[random_indices[:]]\n",
    "#Days_test = Days[random_indices[:]]\n",
    "\n",
    "#Output train/test feature\n",
    "Confirmed_train = Confirmed[random_indices[:]]\n",
    "#Confirmed_test = Confirmed[random_indices[58:]]\n",
    "\n",
    "Deaths_train = Deaths[random_indices[:]]\n",
    "#Deaths_test = Deaths[random_indices[58:]]\n",
    "\n",
    "Recovered_train = Recovered[random_indices[:]]\n",
    "Recovered_test = Recovered[random_indices[58:]]\n",
    "\n",
    "#Cheaking the lenth of taring sample\n",
    "print(len(Confirmed_train))\n",
    "print(len(Deaths_train))"
   ]
  },
  {
   "cell_type": "code",
   "execution_count": 25,
   "metadata": {},
   "outputs": [],
   "source": [
    "#Using Linear Regression \n",
    "#Function for training the model with decision tree\n",
    "#Parameter of the functions are:\n",
    "    #1. x_train = input feature training set\n",
    "    #2. y_train = output feature training set\n",
    "    \n",
    "    \n",
    "def model_train(x_train,y_train):\n",
    "    #fitting the data into the model\n",
    "    model = linear_model.LinearRegression()#Creating instance of linear model\n",
    "    #sklearn takes input as matrix so the we have to reshape the matrix into colloum matrix\n",
    "    x_train_for_fittng = np.matrix(x_train.reshape(len(x_train),1))\n",
    "    y_train_for_fittng = np.matrix(y_train.reshape(len(y_train),1))\n",
    "    \n",
    "    #fit the data into the model\n",
    "    return(model.fit(x_train_for_fittng,y_train_for_fittng))"
   ]
  },
  {
   "cell_type": "code",
   "execution_count": 67,
   "metadata": {},
   "outputs": [
    {
     "data": {
      "text/plain": [
       "'#Calling the Linear regrassing function\\nmodel = model_train(Days_train,Confirmed_train)\\nmodel_prediction = model.predict(Days.reshape((len(Days),1)))\\n\\n#Ploring the curve(Red : Traning Data, GREEN : Prediction  )\\nplt.scatter(Days_train,Confirmed_train,color=\"red\")\\nplt.plot(Days.reshape((len(Days),1)),model_prediction,color=\"green\")'"
      ]
     },
     "execution_count": 67,
     "metadata": {},
     "output_type": "execute_result"
    }
   ],
   "source": [
    "'''#Calling the Linear regrassing function\n",
    "model = model_train(Days_train,Confirmed_train)\n",
    "model_prediction = model.predict(Days.reshape((len(Days),1)))\n",
    "\n",
    "#Ploring the curve(Red : Traning Data, GREEN : Prediction  )\n",
    "plt.scatter(Days_train,Confirmed_train,color=\"red\")\n",
    "plt.plot(Days.reshape((len(Days),1)),model_prediction,color=\"green\")'''"
   ]
  },
  {
   "cell_type": "code",
   "execution_count": 26,
   "metadata": {},
   "outputs": [],
   "source": [
    "#Function for Polynomial regrassing function\n",
    "def poly_regr(X_train,Y_train,degree):\n",
    "    polynom = PolynomialFeatures(degree=degree)\n",
    "    X_poly = polynom.fit_transform(X_train.reshape(len(X_train),1))\n",
    "    polyReg = LinearRegression()\n",
    "    #Returing the fitted model\n",
    "    return polyReg.fit(X_poly,Y_train.reshape(len(Y_train),1))   "
   ]
  },
  {
   "cell_type": "code",
   "execution_count": 27,
   "metadata": {},
   "outputs": [
    {
     "name": "stdout",
     "output_type": "stream",
     "text": [
      "LinearRegression(copy_X=True, fit_intercept=True, n_jobs=None,\n",
      "         normalize=False)\n"
     ]
    }
   ],
   "source": [
    "#calling the plynomial regrassion model for confirm case\n",
    "polynom = PolynomialFeatures(degree=4)\n",
    "model = poly_regr(Days_train,Confirmed_train,4)\n",
    "#Printing the model\n",
    "print(model)\n",
    "\n",
    "#Savhing the model into required dictory\n",
    "'''import pickle\n",
    "#creation a binary file first\n",
    "with open('D:\\Project\\Corona_virus\\Andriod_app\\Andriod_app\\covi19ModelConfirm','wb') as f:\n",
    "    pickle.dump(model,f)'''\n",
    "\n",
    "#Pridiction the mode on traning data\n",
    "predict = model.predict(polynom.fit_transform(Days_train.reshape(len(Days_train),1)))\n",
    "#print(predict)"
   ]
  },
  {
   "cell_type": "code",
   "execution_count": 28,
   "metadata": {},
   "outputs": [
    {
     "data": {
      "image/png": "[encoded data removed]",
      "text/plain": [
       "<Figure size 432x288 with 1 Axes>"
      ]
     },
     "metadata": {
      "needs_background": "light"
     },
     "output_type": "display_data"
    }
   ],
   "source": [
    "#Visulazing the predicted model\n",
    "plt.scatter(Days_train,Confirmed_train,color=\"red\")\n",
    "plt.scatter(Days_train,predict,color=\"blue\")\n",
    "plt.show()"
   ]
  },
  {
   "cell_type": "code",
   "execution_count": 29,
   "metadata": {},
   "outputs": [],
   "source": [
    "#Creating Array of custom Days\n",
    "Days_array = []\n",
    "#Creating Days Data for further Prediction\n",
    "for i in range(1,112):\n",
    "    Days_array.append(i) \n",
    "#Converting arary into np array    \n",
    "Days_predict = np.array(Days_array)\n",
    "#Predict the model on Future Date \n",
    "predict_Confirm = model.predict(polynom.fit_transform(Days_predict.reshape(len(Days_predict),1)))\n",
    "\n",
    "#creation a binary file first\n",
    "with open('D:\\Project\\Corona_virus\\Andriod_app\\Andriod_app\\covi19ModelConfirm','wb') as f:\n",
    "    pickle.dump(model,f)\n",
    "    "
   ]
  },
  {
   "cell_type": "code",
   "execution_count": 30,
   "metadata": {
    "scrolled": true
   },
   "outputs": [
    {
     "data": {
      "text/plain": [
       "[<matplotlib.lines.Line2D at 0x1dbefef62e8>]"
      ]
     },
     "execution_count": 30,
     "metadata": {},
     "output_type": "execute_result"
    },
    {
     "data": {
      "image/png": "[encoded data removed]",
      "text/plain": [
       "<Figure size 432x288 with 1 Axes>"
      ]
     },
     "metadata": {
      "needs_background": "light"
     },
     "output_type": "display_data"
    }
   ],
   "source": [
    "#Ploting the curve(Red: Traning Data, Blue: Future Prediction) for confirm case\n",
    "plt.scatter(Days_train,Confirmed_train,color=\"red\")\n",
    "plt.plot(Days_predict,predict_Confirm,color='blue')"
   ]
  },
  {
   "cell_type": "code",
   "execution_count": 31,
   "metadata": {},
   "outputs": [
    {
     "name": "stdout",
     "output_type": "stream",
     "text": [
      "LinearRegression(copy_X=True, fit_intercept=True, n_jobs=None,\n",
      "         normalize=False)\n"
     ]
    }
   ],
   "source": [
    "#calling the plynomial regrassion model for Death Case\n",
    "polynom = PolynomialFeatures(degree=4)\n",
    "model = poly_regr(Days_train,Deaths_train,4)\n",
    "#Printing the model\n",
    "print(model)\n",
    "\n",
    "#Savhing the model into required dictory\n",
    "#creation a binary file first\n",
    "with open('D:\\Project\\Corona_virus\\Andriod_app\\Andriod_app\\covi19ModelDeath','wb') as f:\n",
    "    pickle.dump(model,f)\n",
    "    \n",
    "    \n",
    "#Pridiction the mode on traning data\n",
    "predict = model.predict(polynom.fit_transform(Days_train.reshape(len(Days_train),1)))"
   ]
  },
  {
   "cell_type": "code",
   "execution_count": 32,
   "metadata": {},
   "outputs": [],
   "source": [
    "#Predict the model on Future Date \n",
    "predict_Death = model.predict(polynom.fit_transform(Days_predict.reshape(len(Days_predict),1)))"
   ]
  },
  {
   "cell_type": "code",
   "execution_count": 16,
   "metadata": {},
   "outputs": [
    {
     "data": {
      "text/plain": [
       "[<matplotlib.lines.Line2D at 0x1dbf00d42b0>]"
      ]
     },
     "execution_count": 16,
     "metadata": {},
     "output_type": "execute_result"
    },
    {
     "data": {
      "image/png": "[encoded data removed]",
      "text/plain": [
       "<Figure size 432x288 with 1 Axes>"
      ]
     },
     "metadata": {
      "needs_background": "light"
     },
     "output_type": "display_data"
    }
   ],
   "source": [
    "#Ploting the curve(Red: Traning Data, Blue: Future Prediction) for Death case\n",
    "plt.scatter(Days_train,Deaths_train,color=\"red\")\n",
    "plt.plot(Days_predict,predict_Death,color='blue')"
   ]
  },
  {
   "cell_type": "code",
   "execution_count": 37,
   "metadata": {},
   "outputs": [
    {
     "name": "stdout",
     "output_type": "stream",
     "text": [
      "LinearRegression(copy_X=True, fit_intercept=True, n_jobs=None,\n",
      "         normalize=False)\n"
     ]
    }
   ],
   "source": [
    "#calling the plynomial regrassion model for Recovery Case\n",
    "polynom = PolynomialFeatures(degree=3)\n",
    "model = poly_regr(Days_train,Recovered_train,3)\n",
    "#Printing the model\n",
    "print(model)\n",
    "\n",
    "#Savhing the model into required dictory\n",
    "\n",
    "#creation a binary file first\n",
    "with open('D:\\Project\\Corona_virus\\Andriod_app\\Andriod_app\\covi19ModelRecovery','wb') as f:\n",
    "    pickle.dump(model,f)\n",
    "    \n",
    "#Pridiction the mode on traning data\n",
    "predict = model.predict(polynom.fit_transform(Days_train.reshape(len(Days_train),1)))"
   ]
  },
  {
   "cell_type": "code",
   "execution_count": 38,
   "metadata": {},
   "outputs": [],
   "source": [
    "#Predict the model on Future Date\n",
    "predict_Recovered = model.predict(polynom.fit_transform(Days_predict.reshape(len(Days_predict),1)))\n",
    "#print(predict_Confirm)"
   ]
  },
  {
   "cell_type": "code",
   "execution_count": 39,
   "metadata": {},
   "outputs": [
    {
     "data": {
      "text/plain": [
       "[<matplotlib.lines.Line2D at 0x1dbf0122630>]"
      ]
     },
     "execution_count": 39,
     "metadata": {},
     "output_type": "execute_result"
    },
    {
     "data": {
      "image/png": "[encoded data removed]",
      "text/plain": [
       "<Figure size 432x288 with 1 Axes>"
      ]
     },
     "metadata": {
      "needs_background": "light"
     },
     "output_type": "display_data"
    }
   ],
   "source": [
    "#Ploting the curve(Red: Traning Data, Blue: Future Prediction) for Death case\n",
    "plt.scatter(Days_train,Recovered_train,color=\"red\")\n",
    "plt.plot(Days_predict,predict_Recovered,color='blue')"
   ]
  },
  {
   "cell_type": "code",
   "execution_count": 20,
   "metadata": {},
   "outputs": [],
   "source": [
    "import pickle\n",
    "#creation a binary file first\n",
    "with open('covi19Model','wb') as f:\n",
    "    pickle.dump(model,f)"
   ]
  },
  {
   "cell_type": "code",
   "execution_count": 34,
   "metadata": {},
   "outputs": [],
   "source": [
    "with open('covi19Model','rb') as f:\n",
    "    model = pickle.load(f)\n"
   ]
  },
  {
   "cell_type": "code",
   "execution_count": 62,
   "metadata": {},
   "outputs": [
    {
     "name": "stdout",
     "output_type": "stream",
     "text": [
      "[[-1.61640548e+03]\n",
      " [-1.73800163e+03]\n",
      " [-1.79836912e+03]\n",
      " [-1.79750794e+03]\n",
      " [-1.73541809e+03]\n",
      " [-1.61209958e+03]\n",
      " [-1.42755240e+03]\n",
      " [-1.18177656e+03]\n",
      " [-8.74772047e+02]\n",
      " [-5.06538870e+02]\n",
      " [-7.70770273e+01]\n",
      " [ 4.13613481e+02]\n",
      " [ 9.65532656e+02]\n",
      " [ 1.57868050e+03]\n",
      " [ 2.25305700e+03]\n",
      " [ 2.98866218e+03]\n",
      " [ 3.78549602e+03]\n",
      " [ 4.64355852e+03]\n",
      " [ 5.56284969e+03]\n",
      " [ 6.54336953e+03]\n",
      " [ 7.58511803e+03]\n",
      " [ 8.68809520e+03]\n",
      " [ 9.85230104e+03]\n",
      " [ 1.10777355e+04]\n",
      " [ 1.23643987e+04]\n",
      " [ 1.37122905e+04]\n",
      " [ 1.51214110e+04]\n",
      " [ 1.65917602e+04]\n",
      " [ 1.81233380e+04]\n",
      " [ 1.97161445e+04]\n",
      " [ 2.13701797e+04]\n",
      " [ 2.30854435e+04]\n",
      " [ 2.48619360e+04]\n",
      " [ 2.66996572e+04]\n",
      " [ 2.85986070e+04]\n",
      " [ 3.05587855e+04]\n",
      " [ 3.25801927e+04]\n",
      " [ 3.46628285e+04]\n",
      " [ 3.68066930e+04]\n",
      " [ 3.90117862e+04]\n",
      " [ 4.12781080e+04]\n",
      " [ 4.36056585e+04]\n",
      " [ 4.59944376e+04]\n",
      " [ 4.84444455e+04]\n",
      " [ 5.09556820e+04]\n",
      " [ 5.35281471e+04]\n",
      " [ 5.61618409e+04]\n",
      " [ 5.88567634e+04]\n",
      " [ 6.16129146e+04]\n",
      " [ 6.44302944e+04]\n",
      " [ 6.73089029e+04]\n",
      " [ 7.02487400e+04]\n",
      " [ 7.32498058e+04]\n",
      " [ 7.63121003e+04]\n",
      " [ 7.94356235e+04]\n",
      " [ 8.26203753e+04]\n",
      " [ 8.58663558e+04]\n",
      " [ 8.91735649e+04]\n",
      " [ 9.25420027e+04]\n",
      " [ 9.59716692e+04]\n",
      " [ 9.94625644e+04]\n",
      " [ 1.03014688e+05]\n",
      " [ 1.06628041e+05]\n",
      " [ 1.10302622e+05]\n",
      " [ 1.14038432e+05]\n",
      " [ 1.17835470e+05]\n",
      " [ 1.21693737e+05]\n",
      " [ 1.25613233e+05]\n",
      " [ 1.29593958e+05]\n",
      " [ 1.33635911e+05]\n",
      " [ 1.37739092e+05]\n",
      " [ 1.41903503e+05]\n",
      " [ 1.46129142e+05]\n",
      " [ 1.50416010e+05]\n",
      " [ 1.54764106e+05]\n",
      " [ 1.59173432e+05]\n",
      " [ 1.63643985e+05]\n",
      " [ 1.68175768e+05]\n",
      " [ 1.72768779e+05]\n",
      " [ 1.77423019e+05]\n",
      " [ 1.82138487e+05]\n",
      " [ 1.86915184e+05]\n",
      " [ 1.91753110e+05]\n",
      " [ 1.96652265e+05]\n",
      " [ 2.01612648e+05]\n",
      " [ 2.06634260e+05]\n",
      " [ 2.11717100e+05]\n",
      " [ 2.16861169e+05]\n",
      " [ 2.22066467e+05]\n",
      " [ 2.27332993e+05]\n",
      " [ 2.32660749e+05]\n",
      " [ 2.38049732e+05]\n",
      " [ 2.43499945e+05]\n",
      " [ 2.49011386e+05]\n",
      " [ 2.54584056e+05]\n",
      " [ 2.60217954e+05]\n",
      " [ 2.65913081e+05]\n",
      " [ 2.71669437e+05]\n",
      " [ 2.77487022e+05]]\n"
     ]
    }
   ],
   "source": [
    "print(predict_Recovered)"
   ]
  },
  {
   "cell_type": "code",
   "execution_count": 75,
   "metadata": {},
   "outputs": [
    {
     "name": "stdout",
     "output_type": "stream",
     "text": [
      "<class 'numpy.ndarray'>\n"
     ]
    }
   ],
   "source": [
    "print(type(predict_Confirm))"
   ]
  },
  {
   "cell_type": "code",
   "execution_count": 2,
   "metadata": {},
   "outputs": [],
   "source": [
    "def sum(a,n):\n",
    "    return a+n\n",
    "\n",
    "func = sum(3,7)\n",
    "import pickle\n",
    "#creation a binary file first\n",
    "with open('D:\\Project\\Corona_virus\\Andriod_app\\Andriod_app\\Recovery','wb') as f:\n",
    "    pickle.dump(func,f)"
   ]
  },
  {
   "cell_type": "code",
   "execution_count": 5,
   "metadata": {},
   "outputs": [
    {
     "ename": "EOFError",
     "evalue": "Ran out of input",
     "output_type": "error",
     "traceback": [
      "\u001b[1;31m---------------------------------------------------------------------------\u001b[0m",
      "\u001b[1;31mEOFError\u001b[0m                                  Traceback (most recent call last)",
      "\u001b[1;32m<ipython-input-5-ea25dc48d5a5>\u001b[0m in \u001b[0;36m<module>\u001b[1;34m\u001b[0m\n\u001b[0;32m      1\u001b[0m \u001b[1;32mwith\u001b[0m \u001b[0mopen\u001b[0m\u001b[1;33m(\u001b[0m\u001b[1;34m'D:\\Project\\Corona_virus\\Andriod_app\\Andriod_app\\Recovery'\u001b[0m\u001b[1;33m,\u001b[0m\u001b[1;34m'rb'\u001b[0m\u001b[1;33m)\u001b[0m \u001b[1;32mas\u001b[0m \u001b[0mf\u001b[0m\u001b[1;33m:\u001b[0m\u001b[1;33m\u001b[0m\u001b[1;33m\u001b[0m\u001b[0m\n\u001b[1;32m----> 2\u001b[1;33m     \u001b[0mnerfuc\u001b[0m \u001b[1;33m=\u001b[0m \u001b[0mpickle\u001b[0m\u001b[1;33m.\u001b[0m\u001b[0mload\u001b[0m\u001b[1;33m(\u001b[0m\u001b[0mf\u001b[0m\u001b[1;33m)\u001b[0m\u001b[1;33m\u001b[0m\u001b[1;33m\u001b[0m\u001b[0m\n\u001b[0m",
      "\u001b[1;31mEOFError\u001b[0m: Ran out of input"
     ]
    }
   ],
   "source": [
    "with open('D:\\Project\\Corona_virus\\Andriod_app\\Andriod_app\\Recovery','rb') as f:\n",
    "    nerfuc = pickle.load(f)\n"
   ]
  },
  {
   "cell_type": "code",
   "execution_count": null,
   "metadata": {},
   "outputs": [],
   "source": []
  }
 ],
 "metadata": {
  "kernelspec": {
   "display_name": "Python 3",
   "language": "python",
   "name": "python3"
  },
  "language_info": {
   "codemirror_mode": {
    "name": "ipython",
    "version": 3
   },
   "file_extension": ".py",
   "mimetype": "text/x-python",
   "name": "python",
   "nbconvert_exporter": "python",
   "pygments_lexer": "ipython3",
   "version": "3.6.8"
  }
 },
 "nbformat": 4,
 "nbformat_minor": 2
}
